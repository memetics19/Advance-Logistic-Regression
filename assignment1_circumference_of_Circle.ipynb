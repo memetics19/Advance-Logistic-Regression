{
  "nbformat": 4,
  "nbformat_minor": 0,
  "metadata": {
    "colab": {
      "name": "assignment1_perimeter_of_Square.ipynb",
      "provenance": [],
      "authorship_tag": "ABX9TyMK6db9X0USMgPsUboqq+iN"
    },
    "kernelspec": {
      "name": "python3",
      "display_name": "Python 3"
    }
  },
  "cells": [
    {
      "cell_type": "markdown",
      "metadata": {
        "id": "rgqE5KgSJuqS",
        "colab_type": "text"
      },
      "source": [
        "# Importing the math library"
      ]
    },
    {
      "cell_type": "code",
      "metadata": {
        "id": "TM2xYN1mJuIT",
        "colab_type": "code",
        "colab": {}
      },
      "source": [
        "from math import pi"
      ],
      "execution_count": 27,
      "outputs": []
    },
    {
      "cell_type": "code",
      "metadata": {
        "id": "tCdpIfRL1iu2",
        "colab_type": "code",
        "colab": {}
      },
      "source": [
        "def circumference(r):\n",
        "  circum = 2*pi*r\n",
        "  print(\"circumference of circle\",circum)\n",
        "  "
      ],
      "execution_count": 28,
      "outputs": []
    },
    {
      "cell_type": "markdown",
      "metadata": {
        "id": "I5VJ86XG6eve",
        "colab_type": "text"
      },
      "source": [
        "# Using Main Function. Passing the value for the circumference function "
      ]
    },
    {
      "cell_type": "code",
      "metadata": {
        "id": "rJoj-xRM5iVM",
        "colab_type": "code",
        "colab": {
          "base_uri": "https://localhost:8080/",
          "height": 34
        },
        "outputId": "3c672b01-91bb-4b73-8c4e-29b6b68ada7c"
      },
      "source": [
        "if __name__== \"__main__\":\n",
        "  circumference(2)"
      ],
      "execution_count": 29,
      "outputs": [
        {
          "output_type": "stream",
          "text": [
            "circumference of circle 12.566370614359172\n"
          ],
          "name": "stdout"
        }
      ]
    }
  ]
}