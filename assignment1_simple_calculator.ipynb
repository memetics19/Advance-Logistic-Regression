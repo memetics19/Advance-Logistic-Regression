{
  "nbformat": 4,
  "nbformat_minor": 0,
  "metadata": {
    "colab": {
      "name": "assignment1_simple_calculator.ipynb",
      "provenance": [],
      "authorship_tag": "ABX9TyP6t9Gro0/br1glfikX2wPR"
    },
    "kernelspec": {
      "name": "python3",
      "display_name": "Python 3"
    }
  },
  "cells": [
    {
      "cell_type": "code",
      "metadata": {
        "id": "tCdpIfRL1iu2",
        "colab_type": "code",
        "colab": {}
      },
      "source": [
        "def si(x,y):\n",
        "  sum = x+y\n",
        "  print(\"sum\",sum)\n",
        "  difference = x-y\n",
        "  print(\"Difference\",difference)\n",
        "  multiply = x*y\n",
        "  print(\"Multiply\",multiply)\n",
        "  divide = x/y\n",
        "  print(\"Division\",divide)\n",
        "  modulus = x%y\n",
        "  print(\"Modulus\",modulus)\n",
        "  exponent = x**y\n",
        "  print(\"exponent\",exponent)\n",
        "  floor = x//y\n",
        "  print(\"floor division\",floor)"
      ],
      "execution_count": 10,
      "outputs": []
    },
    {
      "cell_type": "markdown",
      "metadata": {
        "id": "I5VJ86XG6eve",
        "colab_type": "text"
      },
      "source": [
        "# Using Main Function. Passing the value for the calc function "
      ]
    },
    {
      "cell_type": "code",
      "metadata": {
        "id": "rJoj-xRM5iVM",
        "colab_type": "code",
        "colab": {
          "base_uri": "https://localhost:8080/",
          "height": 34
        },
        "outputId": "10523b2c-2f85-4076-9649-fa88d2a0b990"
      },
      "source": [
        "if __name__== \"__main__\":\n",
        "  calc(50,10)"
      ],
      "execution_count": 12,
      "outputs": [
        {
          "output_type": "stream",
          "text": [
            "Simple Interest 50.15\n"
          ],
          "name": "stdout"
        }
      ]
    }
  ]
}